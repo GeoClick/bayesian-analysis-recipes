{
 "cells": [
  {
   "cell_type": "code",
   "execution_count": 9,
   "metadata": {},
   "outputs": [
    {
     "name": "stdout",
     "output_type": "stream",
     "text": [
      "The autoreload extension is already loaded. To reload it, use:\n",
      "  %reload_ext autoreload\n"
     ]
    }
   ],
   "source": [
    "import pymc3 as pm\n",
    "import matplotlib.pyplot as plt\n",
    "import numpy as np\n",
    "import pandas as pd\n",
    "\n",
    "%load_ext autoreload\n",
    "%autoreload 2\n",
    "%matplotlib inline\n",
    "%config InlineBackend.figure_format = 'retina'"
   ]
  },
  {
   "cell_type": "markdown",
   "metadata": {},
   "source": [
    "Instead of doing an IC50 curve, where the dose-response is inhibition, I'd like to try a dose-response curve where the response is activation as a function of concentration."
   ]
  },
  {
   "cell_type": "code",
   "execution_count": 10,
   "metadata": {},
   "outputs": [],
   "source": [
    "x1 = np.vstack([np.linspace(-2, 2, 10)] * 5)\n",
    "x2 = np.vstack([np.linspace(-2, 2, 10)] * 5)\n",
    "x3 = np.vstack([np.linspace(-2, 2, 10)] * 5)"
   ]
  },
  {
   "cell_type": "code",
   "execution_count": 11,
   "metadata": {},
   "outputs": [],
   "source": [
    "def dose_response(x, lower: float, upper: float, slope: float, c50: float):\n",
    "    \"\"\"\n",
    "    :param x: Array of x-values.\n",
    "    :param lower: Lower-plateau value\n",
    "    :param upper: Upper-plateau value\n",
    "    :param slope: Slope of dose response curve\n",
    "    :param c50: The midpoint value of the curve.\n",
    "    \"\"\"\n",
    "    \n",
    "    return lower + (upper - lower) / (1 + np.exp(slope * (c50 - x)))\n",
    "\n",
    "\n",
    "def noise(x, sd):\n",
    "    return np.random.normal(0, scale=sd, size=x.shape)"
   ]
  },
  {
   "cell_type": "code",
   "execution_count": 13,
   "metadata": {},
   "outputs": [
    {
     "data": {
      "text/plain": [
       "<matplotlib.collections.PathCollection at 0x1c19884198>"
      ]
     },
     "execution_count": 13,
     "metadata": {},
     "output_type": "execute_result"
    },
    {
     "data": {
      "image/png": "[encoded data removed]",
      "text/plain": [
       "<Figure size 432x288 with 1 Axes>"
      ]
     },
     "metadata": {
      "image/png": {
       "height": 250,
       "width": 364
      }
     },
     "output_type": "display_data"
    }
   ],
   "source": [
    "y1 = dose_response(x1, lower=3, upper=6, slope=4, c50=0) + noise(x1, 0.5)\n",
    "y2 = dose_response(x2, lower=2.5, upper=8, slope=3, c50=1.5) + noise(x2, 0.5)\n",
    "y3 = dose_response(x3, lower=3.2, upper=3.4, slope=1.5, c50=0.0) + noise(x3, 0.5)\n",
    "plt.scatter(x1, y1)\n",
    "plt.scatter(x2, y2)\n",
    "plt.scatter(x3, y3)"
   ]
  },
  {
   "cell_type": "markdown",
   "metadata": {},
   "source": [
    "Here, we have three separate curves.\n",
    "\n",
    "- The blue one shows a nice and clean dose response relationship within the same bounds \n",
    "- The orange one shows an example where we do not hit "
   ]
  },
  {
   "cell_type": "code",
   "execution_count": 14,
   "metadata": {},
   "outputs": [],
   "source": [
    "df = pd.DataFrame({'concentration': np.concatenate([x1.flatten(), x2.flatten(), x3.flatten()]),\n",
    "                   'response': np.concatenate([y1.flatten(), y2.flatten(), y3.flatten()]),\n",
    "                   'molecule': ([0] * len(x1.flatten()) + [1] * len(x2.flatten()) + [2] * len(x3.flatten()))\n",
    "                  }\n",
    "                 )"
   ]
  },
  {
   "cell_type": "code",
   "execution_count": 18,
   "metadata": {},
   "outputs": [],
   "source": [
    "with pm.Model() as model:\n",
    "    lower = pm.Normal('lower', mu=0, sd=10, shape=(3,))\n",
    "    upper = pm.Normal('upper', mu=10, sd=10, shape=(3,))\n",
    "    c50 = pm.Normal('c50', mu=0, sd=10, shape=(3,))\n",
    "    slope = pm.HalfNormal('slope', sd=10, shape=(3,))\n",
    "    \n",
    "    mu = dose_response(df['concentration'], \n",
    "                       lower[df['molecule'].values], \n",
    "                       upper[df['molecule'].values], \n",
    "                       slope[df['molecule'].values], \n",
    "                       c50[df['molecule'].values])\n",
    "    \n",
    "    sd = pm.HalfNormal('sd', sd=10, shape=(3,))\n",
    "    y = pm.Normal('like', mu=mu, sd=sd[df['molecule'].values], observed=df['response'])"
   ]
  },
  {
   "cell_type": "code",
   "execution_count": null,
   "metadata": {},
   "outputs": [
    {
     "name": "stderr",
     "output_type": "stream",
     "text": [
      "Auto-assigning NUTS sampler...\n",
      "Initializing NUTS using jitter+adapt_diag...\n",
      "INFO (theano.gof.compilelock): Refreshing lock /Users/ericmjl/.theano/compiledir_Darwin-18.2.0-x86_64-i386-64bit-i386-3.6.7-64/lock_dir/lock\n"
     ]
    }
   ],
   "source": [
    "with model:\n",
    "    trace = pm.sample(2000)"
   ]
  },
  {
   "cell_type": "code",
   "execution_count": null,
   "metadata": {},
   "outputs": [],
   "source": [
    "pm.traceplot(trace, varnames=['upper'])\n",
    "plt.show()"
   ]
  },
  {
   "cell_type": "code",
   "execution_count": null,
   "metadata": {},
   "outputs": [],
   "source": [
    "with pm.Model() as model_v2:\n",
    "    # Group priors on lower\n",
    "    lower_mu = pm.Normal('lower_mu', mu=0, sd=3)\n",
    "    lower_sd = pm.Exponential('lower_sd', lam=5)\n",
    "    # Prior on lower\n",
    "    lower = pm.Normal('lower', mu=lower_mu, sd=lower_sd, shape=(3,))\n",
    "    \n",
    "    # Group prior on upper\n",
    "    upper_mu = pm.Normal('upper_mu', mu=7, sd=3)\n",
    "    upper_sd = pm.Exponential('upper_sd', lam=5)\n",
    "    # Prior on upper\n",
    "    upper = pm.Normal('upper', mu=upper_mu, sd=upper_sd, shape=(3,))\n",
    "    \n",
    "    # Group prior on c50\n",
    "    c50_mu = pm.Normal('c50_mu', mu=0, sd=3)\n",
    "    c50_sd = pm.Exponential('c50_sd', lam=5)\n",
    "    # Prior on c50\n",
    "    c50 = pm.Normal('c50', mu=c50_mu, sd=c50_sd, shape=(3,))\n",
    "    \n",
    "    # Group prior on slope\n",
    "    slope_sd = pm.Exponential('slope_sd', lam=5)\n",
    "    # Prior on slope\n",
    "    slope = pm.HalfNormal('slope', sd=slope_sd, shape=(3,))\n",
    "    \n",
    "    # Transformation\n",
    "    mu = dose_response(df['concentration'], \n",
    "                       lower[df['molecule'].values], \n",
    "                       upper[df['molecule'].values], \n",
    "                       slope[df['molecule'].values], \n",
    "                       c50[df['molecule'].values])\n",
    "    \n",
    "    # Prior on SD\n",
    "    sd = pm.HalfNormal('sd', sd=10, shape=(3,))\n",
    "    \n",
    "    # Likelihood\n",
    "    y = pm.Normal('like', mu=mu, sd=sd[df['molecule'].values], observed=df['response'])"
   ]
  },
  {
   "cell_type": "code",
   "execution_count": null,
   "metadata": {},
   "outputs": [],
   "source": [
    "with model_v2:\n",
    "    trace_v2 = pm.sample(2000)"
   ]
  },
  {
   "cell_type": "code",
   "execution_count": null,
   "metadata": {},
   "outputs": [],
   "source": [
    "pm.traceplot(trace_v2, varnames=['upper'])"
   ]
  },
  {
   "cell_type": "code",
   "execution_count": null,
   "metadata": {},
   "outputs": [],
   "source": [
    "with pm.Model() as model_v3:\n",
    "    # Main change here: switched lower and upper to gamma-distributed.\n",
    "    \n",
    "    # Group priors on lower\n",
    "    lower_mu = pm.HalfNormal('lower_mu', sd=10)\n",
    "    lower_sd = pm.Exponential('lower_sd', lam=5)\n",
    "    # Prior on lower\n",
    "    lower = pm.Gamma('lower', mu=lower_mu, sd=lower_sd, shape=(3,))\n",
    "    \n",
    "    # Group prior on upper\n",
    "    upper_mu = pm.HalfNormal('upper_mu', sd=10)\n",
    "    upper_sd = pm.Exponential('upper_sd', lam=5)\n",
    "    # Prior on upper\n",
    "    upper = pm.Gamma('upper', mu=upper_mu, sd=upper_sd, shape=(3,))\n",
    "    \n",
    "    # Group prior on c50\n",
    "    c50_mu = pm.Normal('c50_mu', mu=0, sd=3)\n",
    "    c50_sd = pm.Exponential('c50_sd', lam=5)\n",
    "    # Prior on c50\n",
    "    c50 = pm.Normal('c50', mu=c50_mu, sd=c50_sd, shape=(3,))\n",
    "    \n",
    "    # Group prior on slope\n",
    "    slope_sd = pm.Exponential('slope_sd', lam=5)\n",
    "    # Prior on slope\n",
    "    slope = pm.HalfNormal('slope', sd=slope_sd, shape=(3,))\n",
    "    \n",
    "    # Transformation\n",
    "    mu = dose_response(df['concentration'], \n",
    "                       lower[df['molecule'].values], \n",
    "                       upper[df['molecule'].values], \n",
    "                       slope[df['molecule'].values], \n",
    "                       c50[df['molecule'].values])\n",
    "    \n",
    "    # Prior on SD\n",
    "    sd = pm.HalfNormal('sd', sd=10, shape=(3,))\n",
    "    \n",
    "    # Likelihood\n",
    "    y = pm.Normal('like', mu=mu, sd=sd[df['molecule'].values], observed=df['response'])"
   ]
  },
  {
   "cell_type": "code",
   "execution_count": null,
   "metadata": {},
   "outputs": [],
   "source": [
    "with model_v3:\n",
    "    trace_v3 = pm.sample(2000)"
   ]
  },
  {
   "cell_type": "code",
   "execution_count": null,
   "metadata": {},
   "outputs": [],
   "source": [
    "pm.traceplot(trace_v3, varnames=['upper'])"
   ]
  },
  {
   "cell_type": "code",
   "execution_count": null,
   "metadata": {},
   "outputs": [],
   "source": [
    "upper = trace_v3['upper'].mean(axis=0)"
   ]
  },
  {
   "cell_type": "code",
   "execution_count": null,
   "metadata": {},
   "outputs": [],
   "source": [
    "upper"
   ]
  },
  {
   "cell_type": "code",
   "execution_count": null,
   "metadata": {},
   "outputs": [],
   "source": []
  }
 ],
 "metadata": {
  "kernelspec": {
   "display_name": "bayesian",
   "language": "python",
   "name": "bayesian"
  },
  "language_info": {
   "codemirror_mode": {
    "name": "ipython",
    "version": 3
   },
   "file_extension": ".py",
   "mimetype": "text/x-python",
   "name": "python",
   "nbconvert_exporter": "python",
   "pygments_lexer": "ipython3",
   "version": "3.6.7"
  }
 },
 "nbformat": 4,
 "nbformat_minor": 2
}
